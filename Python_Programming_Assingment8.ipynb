{
 "cells": [
  {
   "cell_type": "markdown",
   "metadata": {},
   "source": [
    "Write a Python Program to Add Two Matrices?\n"
   ]
  },
  {
   "cell_type": "code",
   "execution_count": 3,
   "metadata": {},
   "outputs": [],
   "source": [
    "M1 = [[2,3,4],\n",
    "     [4,3,2],\n",
    "     [5,6,7]]\n",
    "\n",
    "M2 = [[1,2,3],\n",
    "     [3,2,1],\n",
    "     [7,6,5]]\n",
    "\n",
    "R = [[0,0,0],\n",
    "    [0,0,0],\n",
    "    [0,0,0]]\n",
    "for i in range(len(M1)):\n",
    "    for j in range(len(M1[0])):\n",
    "        R[i][j]= M1[i][j]+M2[i][j]"
   ]
  },
  {
   "cell_type": "code",
   "execution_count": 4,
   "metadata": {},
   "outputs": [
    {
     "data": {
      "text/plain": [
       "[[3, 5, 7], [7, 5, 3], [12, 12, 12]]"
      ]
     },
     "execution_count": 4,
     "metadata": {},
     "output_type": "execute_result"
    }
   ],
   "source": [
    "R"
   ]
  },
  {
   "cell_type": "code",
   "execution_count": null,
   "metadata": {},
   "outputs": [],
   "source": [
    "Write a Python Program to Multiply Two Matrices?"
   ]
  },
  {
   "cell_type": "code",
   "execution_count": 5,
   "metadata": {},
   "outputs": [
    {
     "name": "stdout",
     "output_type": "stream",
     "text": [
      "[[12, 15], [4, 5]]\n"
     ]
    }
   ],
   "source": [
    "M21 = [[1,3],\n",
    "      [3,1]]\n",
    "\n",
    "M22= [[1,2],\n",
    "     [4,5]]\n",
    "\n",
    "R = [[0,0],\n",
    "    [0,0]]\n",
    "\n",
    "for i in range(len(M21)):\n",
    "    for j in range(len(M22[0])):\n",
    "        for k in range(len(M22)):\n",
    "            R[i][j]= M21[i][k]*M22[k][j]\n",
    "        \n",
    "        \n",
    "print(R)"
   ]
  },
  {
   "cell_type": "markdown",
   "metadata": {},
   "source": [
    "Write a Python Program to Transpose a Matrix?\n"
   ]
  },
  {
   "cell_type": "code",
   "execution_count": 8,
   "metadata": {},
   "outputs": [],
   "source": [
    "M3 = [[2,3,4],\n",
    "     [4,3,5]]\n",
    "\n",
    "R3= [[0,0],\n",
    "     [0,0],\n",
    "     [0,0]]\n",
    "\n",
    "for i in range(len(M3)):\n",
    "    for j in range(len(M3[0])):\n",
    "        R3[j][i] = M3[i][j]"
   ]
  },
  {
   "cell_type": "code",
   "execution_count": 10,
   "metadata": {},
   "outputs": [
    {
     "name": "stdout",
     "output_type": "stream",
     "text": [
      "[2, 4]\n",
      "[3, 3]\n",
      "[4, 5]\n"
     ]
    }
   ],
   "source": [
    "for i in R3:\n",
    "    print(i)"
   ]
  },
  {
   "cell_type": "markdown",
   "metadata": {},
   "source": [
    "Write a Python Program to Sort Words in Alphabetic Order?\n"
   ]
  },
  {
   "cell_type": "code",
   "execution_count": 18,
   "metadata": {},
   "outputs": [
    {
     "name": "stdout",
     "output_type": "stream",
     "text": [
      "['welcome', 'to', 'ineuron']\n",
      "ineuron\n",
      "to\n",
      "welcome\n"
     ]
    }
   ],
   "source": [
    "statement = \"Welcome to iNeuron\"\n",
    "a=statement.lower().split()\n",
    "print(a)\n",
    "a.sort()\n",
    "for i in a:\n",
    "    print(i)\n"
   ]
  },
  {
   "cell_type": "markdown",
   "metadata": {},
   "source": [
    "Write a Python Program to Remove Punctuation From a String?\n"
   ]
  },
  {
   "cell_type": "code",
   "execution_count": 19,
   "metadata": {},
   "outputs": [
    {
     "name": "stdout",
     "output_type": "stream",
     "text": [
      "Hello This is iNeuron\n"
     ]
    }
   ],
   "source": [
    "punctuations = '''!()-[]{};:'\"\\,<>./?@#$%^&*_~'''\n",
    "\n",
    "statement2 = \"Hello!! This is @iNeuron\"\n",
    "\n",
    "flatstat2 =\"\"\n",
    "\n",
    "for i in statement2:\n",
    "    if i not in punctuations:\n",
    "        flatstat2 = flatstat2 + i\n",
    "        \n",
    "print(flatstat2)"
   ]
  },
  {
   "cell_type": "code",
   "execution_count": null,
   "metadata": {},
   "outputs": [],
   "source": []
  }
 ],
 "metadata": {
  "kernelspec": {
   "display_name": "Python 3",
   "language": "python",
   "name": "python3"
  },
  "language_info": {
   "codemirror_mode": {
    "name": "ipython",
    "version": 3
   },
   "file_extension": ".py",
   "mimetype": "text/x-python",
   "name": "python",
   "nbconvert_exporter": "python",
   "pygments_lexer": "ipython3",
   "version": "3.6.10"
  }
 },
 "nbformat": 4,
 "nbformat_minor": 4
}
