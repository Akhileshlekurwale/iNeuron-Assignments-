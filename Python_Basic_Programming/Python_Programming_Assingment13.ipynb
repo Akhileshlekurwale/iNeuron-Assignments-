{
 "cells": [
  {
   "cell_type": "code",
   "execution_count": null,
   "metadata": {},
   "outputs": [],
   "source": [
    "Write a program that calculates and prints the value according to the given formula:\n",
    "\n",
    "Q = Square root of [(2 * C * D)/H]\n",
    "\n",
    "Following are the fixed values of C and H:C is 50. H is 30.\n",
    "D is the variable whose values should be input to your program in a comma-separated sequence.\n",
    "\n",
    "Example\n",
    "Let us assume the following comma separated input sequence is given to the program:\n",
    "\n",
    "100,150,180\n",
    "The output of the program should be:\n",
    "18,22,24"
   ]
  },
  {
   "cell_type": "code",
   "execution_count": null,
   "metadata": {},
   "outputs": [],
   "source": [
    "import math\n",
    "C = 50\n",
    "H=30\n",
    "D = list(map(int, input(\"Enter comma separated values: \").split(\",\")))\n",
    "\n",
    "Q=[]\n",
    "\n",
    "for i in D:\n",
    "    a= ((2 * C * i)/H)\n",
    "    a=math.sqrt(a)\n",
    "    Q.append(a)\n",
    "    \n",
    "for i in Q:\n",
    "    print(int(i),end=',')"
   ]
  },
  {
   "cell_type": "markdown",
   "metadata": {},
   "source": [
    "\n",
    "Question 2:\n",
    "Write a program which takes 2 digits, X,Y as input and generates a 2-dimensional array. The element value in the i-th row and j-th column of the array should be i*j.\n",
    "\n",
    "Note: i=0,1.., X-1; j=0,1,¡Y-1.\n",
    "Example\n",
    "Suppose the following inputs are given to the program:\n",
    "3,5"
   ]
  },
  {
   "cell_type": "code",
   "execution_count": 3,
   "metadata": {},
   "outputs": [
    {
     "name": "stdout",
     "output_type": "stream",
     "text": [
      "Enter num of rows3\n",
      "Enter num of col5\n",
      "[0, 0, 0, 0, 0] \n",
      " [0, 1, 2, 3, 4] \n",
      " [0, 2, 4, 6, 8]\n"
     ]
    }
   ],
   "source": [
    "row = int(input(\"Enter num of rows\"))\n",
    "col = int(input(\"Enter num of col\"))\n",
    "l1 = [[ 0 for j in range(col)] for i in range(row)]\n",
    "for i in range(row):\n",
    "    for j in range(col):\n",
    "        l1[i][j]=i*j\n",
    "        \n",
    "print(l1[0],'\\n',l1[1],'\\n',l1[2])"
   ]
  },
  {
   "cell_type": "markdown",
   "metadata": {},
   "source": [
    "\n",
    "Write a program that accepts a comma separated sequence of words as input and prints the words in a comma-separated sequence after sorting them alphabetically.\n",
    "Suppose the following input is supplied to the program:\n",
    "\n",
    "without,hello,bag,world\n",
    "Then, the output should be:\n",
    "bag,hello,without,world\n"
   ]
  },
  {
   "cell_type": "code",
   "execution_count": 10,
   "metadata": {},
   "outputs": [
    {
     "name": "stdout",
     "output_type": "stream",
     "text": [
      "Enter comma separated values: without,hello,bag,world\n",
      "bag,hello,without,world,"
     ]
    }
   ],
   "source": [
    "str3 = list(map(str, input(\"Enter comma separated values: \").split(\",\")))\n",
    "str3.sort()\n",
    "for i in str3:\n",
    "    print(i,end=',')\n",
    "#str4=['b','c','a','d']\n",
    "#str4.sort()\n",
    "#print(str4)"
   ]
  },
  {
   "cell_type": "markdown",
   "metadata": {},
   "source": [
    "Question 4:\n",
    "Write a program that accepts a sequence of whitespace separated words as input and prints the words after removing all duplicate words and sorting them alphanumerically.\n",
    "Suppose the following input is supplied to the program:\n",
    "\n",
    "hello world and practice makes perfect and hello world again\n",
    "\n",
    "Then, the output should be:\n",
    "\n",
    "again and hello makes perfect practice world\n"
   ]
  },
  {
   "cell_type": "code",
   "execution_count": 15,
   "metadata": {},
   "outputs": [
    {
     "name": "stdout",
     "output_type": "stream",
     "text": [
      "['hello', 'world', 'and', 'practice', 'makes', 'perfect', 'and', 'hello', 'world', 'again']\n",
      "again and hello makes perfect practice world\n"
     ]
    }
   ],
   "source": [
    "str4 = \"hello world and practice makes perfect and hello world again\"\n",
    "words = str4.split()\n",
    "print(words)\n",
    "op = ' '.join(sorted(list(set(words))))\n",
    "#unique.sort()\n",
    "print(op)"
   ]
  },
  {
   "cell_type": "markdown",
   "metadata": {},
   "source": [
    "\n",
    "Write a program that accepts a sentence and calculate the number of letters and digits.\n",
    "Suppose the following input is supplied to the program:\n",
    "\n",
    "hello world! 123\n",
    "Then, the output should be:\n",
    "LETTERS 10\n",
    "DIGITS 3\n"
   ]
  },
  {
   "cell_type": "code",
   "execution_count": 21,
   "metadata": {},
   "outputs": [
    {
     "name": "stdout",
     "output_type": "stream",
     "text": [
      "LETTERS 10\n",
      "DIGITS 3\n"
     ]
    }
   ],
   "source": [
    "str5= \"hello world! 123\"\n",
    "str5.lower()\n",
    "d=0\n",
    "l=0\n",
    "\n",
    "for i in str5:\n",
    "    if i.isdigit():\n",
    "        d +=1\n",
    "    elif i.isalpha():\n",
    "        l +=1\n",
    "    else:\n",
    "        pass\n",
    "    \n",
    "print(\"LETTERS\",l)\n",
    "print(\"DIGITS\",d)"
   ]
  },
  {
   "cell_type": "markdown",
   "metadata": {},
   "source": [
    "\n",
    "A website requires the users to input username and password to register. Write a program to check the validity of password input by users.\n",
    "Following are the criteria for checking the password:\n",
    "1. At least 1 letter between [a-z]\n",
    "2. At least 1 number between [0-9]\n",
    "1. At least 1 letter between [A-Z]\n",
    "3. At least 1 character from [$#@]\n",
    "4. Minimum length of transaction password: 6\n",
    "5. Maximum length of transaction password: 12\n",
    "\n",
    "Your program should accept a sequence of comma separated passwords and will check them according to the above criteria. Passwords that match the criteria are to be printed, each separated by a comma.\n",
    "\n",
    "Example\n",
    "\n",
    "If the following passwords are given as input to the program:\n",
    "\n",
    "ABd1234@1,a F1#,2w3E*,2We3345\n",
    "\n",
    "Then, the output of the program should be:\n",
    "\n",
    "\n",
    "\n",
    "ABd1234@1\n"
   ]
  },
  {
   "cell_type": "code",
   "execution_count": 27,
   "metadata": {},
   "outputs": [
    {
     "name": "stdout",
     "output_type": "stream",
     "text": [
      "Enter comma separated values: ABd1234@1,a F1#,2w3E*,2We3345\n",
      "ABd1234@1\n"
     ]
    }
   ],
   "source": [
    "import re\n",
    "str5 = list(map(str, input(\"Enter comma separated values: \").split(\",\")))\n",
    "flag=0\n",
    "for i in str5:\n",
    "    while True:\n",
    "        if (len(i)<6 or len(i)>12):\n",
    "            flag = 1\n",
    "            break\n",
    "        elif not re.search(\"[a-z]\",i):\n",
    "            flag=1\n",
    "            break\n",
    "        elif not re.search(\"[A-Z]\",i):\n",
    "            flag = 1\n",
    "            break\n",
    "        elif not re.search(\"[0-9]\",i):\n",
    "            flag= 1\n",
    "            break\n",
    "        elif not re.search(\"[$#@]\",i):\n",
    "            flag=1\n",
    "            break\n",
    "        elif re.search(\"\\s\",i):\n",
    "            break\n",
    "        else:\n",
    "            print(i)\n",
    "            x=False\n",
    "            break\n",
    "            \n",
    "    "
   ]
  },
  {
   "cell_type": "code",
   "execution_count": null,
   "metadata": {},
   "outputs": [],
   "source": []
  }
 ],
 "metadata": {
  "kernelspec": {
   "display_name": "Python 3",
   "language": "python",
   "name": "python3"
  },
  "language_info": {
   "codemirror_mode": {
    "name": "ipython",
    "version": 3
   },
   "file_extension": ".py",
   "mimetype": "text/x-python",
   "name": "python",
   "nbconvert_exporter": "python",
   "pygments_lexer": "ipython3",
   "version": "3.6.10"
  }
 },
 "nbformat": 4,
 "nbformat_minor": 4
}
