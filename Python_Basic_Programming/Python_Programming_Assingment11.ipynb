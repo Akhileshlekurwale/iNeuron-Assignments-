{
 "cells": [
  {
   "cell_type": "markdown",
   "metadata": {},
   "source": [
    "Write a Python program to find words which are greater than given length k?"
   ]
  },
  {
   "cell_type": "code",
   "execution_count": 6,
   "metadata": {},
   "outputs": [
    {
     "name": "stdout",
     "output_type": "stream",
     "text": [
      "Please enter number of wordsWant to switch in data science hence join iNeuron\n",
      "enter length of word 5\n",
      "['switch', 'science', 'iNeuron']\n"
     ]
    }
   ],
   "source": [
    "s1= str(input(\"Please enter number of words\"))\n",
    "m1= int(input(\"enter length of word \"))\n",
    "l1=[]\n",
    "def longstr(s1,m1):\n",
    "    \n",
    "    sp1=s1.split()\n",
    "    for i in sp1:\n",
    "        if len(i)>m1:\n",
    "            l1.append(i)\n",
    "            \n",
    "longstr(s1,m1)\n",
    "print(l1)"
   ]
  },
  {
   "cell_type": "markdown",
   "metadata": {},
   "source": [
    "Write a Python program for removing i-th character from a string?\n"
   ]
  },
  {
   "cell_type": "code",
   "execution_count": 8,
   "metadata": {},
   "outputs": [
    {
     "name": "stdout",
     "output_type": "stream",
     "text": [
      "enter index of char3\n",
      "remve i char from string\n"
     ]
    }
   ],
   "source": [
    "string2 = \"remove i char from string\"\n",
    "n=int(input(\"enter index of char\"))\n",
    "for i in range(len(string2)):\n",
    "    if i == n:\n",
    "        string2=string2.replace(string2[i],\"\",1)\n",
    "        \n",
    "print(string2)"
   ]
  },
  {
   "cell_type": "markdown",
   "metadata": {},
   "source": [
    "Write a Python program to split and join a string?\n"
   ]
  },
  {
   "cell_type": "code",
   "execution_count": 11,
   "metadata": {},
   "outputs": [
    {
     "name": "stdout",
     "output_type": "stream",
     "text": [
      "splited string is  ['remove', 'i', 'char', 'from', 'string']\n",
      "joined string is  r_e_m_o_v_e_ _i_ _c_h_a_r_ _f_r_o_m_ _s_t_r_i_n_g\n"
     ]
    }
   ],
   "source": [
    "string2 = \"remove i char from string\"\n",
    "a= string2.split()\n",
    "print(\"splited string is \",a)\n",
    "\n",
    "b= \"_\".join(string2)\n",
    "print(\"joined string is \",b)"
   ]
  },
  {
   "cell_type": "markdown",
   "metadata": {},
   "source": [
    "Write a Python to check if a given string is binary string or not?\n"
   ]
  },
  {
   "cell_type": "code",
   "execution_count": 16,
   "metadata": {},
   "outputs": [
    {
     "name": "stdout",
     "output_type": "stream",
     "text": [
      "{'e', 'h', 'r', 'g', 'i', 's', 'v', 'n', 'm', 'o', 't', ' ', 'c', 'f', 'a'}\n",
      "Not binary\n"
     ]
    }
   ],
   "source": [
    "string2 = \"remove i char from string\"\n",
    "string3 =set(string2)\n",
    "print(string3)\n",
    "p ={'1','0'}\n",
    "\n",
    "if string3==p :\n",
    "    print(\"string is binary\")\n",
    "else:\n",
    "    print(\"Not binary\")"
   ]
  },
  {
   "cell_type": "markdown",
   "metadata": {},
   "source": [
    "Write a Python program to find uncommon words from two Strings?\n"
   ]
  },
  {
   "cell_type": "code",
   "execution_count": 21,
   "metadata": {},
   "outputs": [
    {
     "name": "stdout",
     "output_type": "stream",
     "text": [
      "uncommon\n",
      "['some', 'common', 'uncommon']\n"
     ]
    }
   ],
   "source": [
    "string4 = 'this has some common word'\n",
    "string5='this has uncommon word'\n",
    "string6 =[]\n",
    "for i in string4.split():\n",
    "    if i not in string5.split():\n",
    "        string6.append(i)\n",
    "#        print(i)\n",
    "        \n",
    "for i in string5.split():\n",
    "    if i not in string4.split():\n",
    "        string6.append(i)\n",
    "        print(i)\n",
    "    \n",
    "print(string6)"
   ]
  },
  {
   "cell_type": "code",
   "execution_count": 26,
   "metadata": {},
   "outputs": [
    {
     "name": "stdout",
     "output_type": "stream",
     "text": [
      "a 3\n",
      "c 2\n",
      "v 3\n",
      "d 3\n",
      "s 5\n"
     ]
    }
   ],
   "source": [
    "string7 ='acvfdssbagsvsdsdcav'\n",
    "count = {}\n",
    "for i in string7:\n",
    "    if i in count:\n",
    "        count[i] += 1\n",
    "    else:\n",
    "        count[i] = 1\n",
    "\n",
    "for key in count:\n",
    "    if count[key] > 1:\n",
    "        print (key, count[key])"
   ]
  },
  {
   "cell_type": "markdown",
   "metadata": {},
   "source": [
    "Write a Python Program to check if a string contains any special character?\n"
   ]
  },
  {
   "cell_type": "code",
   "execution_count": 28,
   "metadata": {},
   "outputs": [
    {
     "data": {
      "text/plain": [
       "False"
      ]
     },
     "execution_count": 28,
     "metadata": {},
     "output_type": "execute_result"
    }
   ],
   "source": [
    "s = \"@3asfhxyfk\"\n",
    "s.isalnum()"
   ]
  },
  {
   "cell_type": "code",
   "execution_count": null,
   "metadata": {},
   "outputs": [],
   "source": []
  }
 ],
 "metadata": {
  "kernelspec": {
   "display_name": "Python 3",
   "language": "python",
   "name": "python3"
  },
  "language_info": {
   "codemirror_mode": {
    "name": "ipython",
    "version": 3
   },
   "file_extension": ".py",
   "mimetype": "text/x-python",
   "name": "python",
   "nbconvert_exporter": "python",
   "pygments_lexer": "ipython3",
   "version": "3.6.10"
  }
 },
 "nbformat": 4,
 "nbformat_minor": 4
}
