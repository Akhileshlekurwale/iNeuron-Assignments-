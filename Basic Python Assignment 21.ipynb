{
 "cells": [
  {
   "cell_type": "raw",
   "metadata": {},
   "source": [
    "1. Add the current date to the text file today.txt as a string."
   ]
  },
  {
   "cell_type": "code",
   "execution_count": 6,
   "metadata": {},
   "outputs": [
    {
     "name": "stdout",
     "output_type": "stream",
     "text": [
      "2022-05-13\n"
     ]
    }
   ],
   "source": [
    "from datetime import date\n",
    "\n",
    "today = date.today()\n",
    "#print(today)\n",
    "with open('today.txt','w') as f:\n",
    "    f.write(f\"Today's date is {today}\")\n",
    "f.close()"
   ]
  },
  {
   "cell_type": "code",
   "execution_count": 7,
   "metadata": {},
   "outputs": [
    {
     "name": "stdout",
     "output_type": "stream",
     "text": [
      "Today's date is 2022-05-13\n"
     ]
    }
   ],
   "source": [
    "file = open('today.txt','r')\n",
    "print(file.read())\n",
    "file.close()"
   ]
  },
  {
   "cell_type": "raw",
   "metadata": {},
   "source": [
    "2. Read the text file today.txt into the string today_string"
   ]
  },
  {
   "cell_type": "code",
   "execution_count": 8,
   "metadata": {},
   "outputs": [
    {
     "name": "stdout",
     "output_type": "stream",
     "text": [
      "Today's date is 2022-05-13\n"
     ]
    }
   ],
   "source": [
    "file = open('today.txt','r')\n",
    "today_string = file.read()\n",
    "print(today_string)"
   ]
  },
  {
   "cell_type": "raw",
   "metadata": {},
   "source": [
    "3. Parse the date from today_string."
   ]
  },
  {
   "cell_type": "code",
   "execution_count": 25,
   "metadata": {},
   "outputs": [
    {
     "data": {
      "text/plain": [
       "'13-05-2022'"
      ]
     },
     "execution_count": 25,
     "metadata": {},
     "output_type": "execute_result"
    }
   ],
   "source": [
    "import datetime\n",
    "today_string = datetime.datetime.now().strftime(\"%d-%m-%Y\")\n",
    "today_string"
   ]
  },
  {
   "cell_type": "code",
   "execution_count": 27,
   "metadata": {},
   "outputs": [],
   "source": [
    "from datetime import datetime\n",
    "\n",
    "parsed_data = datetime.strptime(today_string , \"%d-%m-%Y\")"
   ]
  },
  {
   "cell_type": "code",
   "execution_count": 28,
   "metadata": {},
   "outputs": [
    {
     "data": {
      "text/plain": [
       "datetime.datetime(2022, 5, 13, 0, 0)"
      ]
     },
     "execution_count": 28,
     "metadata": {},
     "output_type": "execute_result"
    }
   ],
   "source": [
    "parsed_data"
   ]
  },
  {
   "cell_type": "raw",
   "metadata": {},
   "source": [
    "4. List the files in your current directory"
   ]
  },
  {
   "cell_type": "code",
   "execution_count": 36,
   "metadata": {},
   "outputs": [
    {
     "data": {
      "text/plain": [
       "['.git',\n",
       " '.ipynb_checkpoints',\n",
       " 'akhilesh.jpg',\n",
       " 'Basic Python Assignment 12.ipynb',\n",
       " 'Basic Python Assignment 13.ipynb',\n",
       " 'Basic Python Assignment 14.ipynb',\n",
       " 'Basic Python Assignment 16.ipynb',\n",
       " 'Basic Python Assignment 19.ipynb',\n",
       " 'Basic Python Assignment 21.ipynb',\n",
       " 'Basic Python Assignment 8.ipynb',\n",
       " 'Basic Python Assignment_10.ipynb',\n",
       " 'Basic_Python_Assignment_9.ipynb',\n",
       " 'books.db',\n",
       " 'Des',\n",
       " 'file.csv',\n",
       " 'Python Basic Assignment  11.ipynb',\n",
       " 'Python Basic Assignment 10.ipynb',\n",
       " 'Python Basic Assignment 15.ipynb',\n",
       " 'Python Basic Assignment 17.ipynb',\n",
       " 'Python Basic Assignment 18.ipynb',\n",
       " 'Python Basic Assignment 20.ipynb',\n",
       " 'Python Basics Assignment 7.ipynb',\n",
       " 'Src',\n",
       " 'test.txt',\n",
       " 'today.txt',\n",
       " 'zoo.py']"
      ]
     },
     "execution_count": 36,
     "metadata": {},
     "output_type": "execute_result"
    }
   ],
   "source": [
    "import os\n",
    "files = []\n",
    "for file in os.listdir():\n",
    "    files.append(file)\n",
    "    \n",
    "files"
   ]
  },
  {
   "cell_type": "raw",
   "metadata": {},
   "source": [
    "5. Create a list of all of the files in your parent directory (minimum five files should be available)."
   ]
  },
  {
   "cell_type": "code",
   "execution_count": 39,
   "metadata": {},
   "outputs": [
    {
     "data": {
      "text/plain": [
       "'E:\\\\DataScience\\\\iNeuron\\\\Assignements\\\\Python Basic Assignment'"
      ]
     },
     "execution_count": 39,
     "metadata": {},
     "output_type": "execute_result"
    }
   ],
   "source": [
    "path = os.getcwd()\n",
    "path"
   ]
  },
  {
   "cell_type": "code",
   "execution_count": 41,
   "metadata": {},
   "outputs": [
    {
     "data": {
      "text/plain": [
       "'E:\\\\DataScience\\\\iNeuron\\\\Assignements'"
      ]
     },
     "execution_count": 41,
     "metadata": {},
     "output_type": "execute_result"
    }
   ],
   "source": [
    "parent = os.path.dirname(path)\n",
    "parent"
   ]
  },
  {
   "cell_type": "code",
   "execution_count": 44,
   "metadata": {},
   "outputs": [
    {
     "name": "stdout",
     "output_type": "stream",
     "text": [
      ".ipynb_checkpoints\n",
      "ML_Assignments\n",
      "programLog.txt\n",
      "Python Basic Assignment\n",
      "Python_Advance_Assignment1.ipynb\n",
      "Python_Programming_Assingment10.ipynb\n",
      "Python_Programming_Assingment11.ipynb\n",
      "Python_Programming_Assingment12.ipynb\n",
      "Python_Programming_Assingment13.ipynb\n",
      "Python_Programming_Assingment3.ipynb\n",
      "Python_Programming_Assingment4.ipynb\n",
      "Python_Programming_Assingment5.ipynb\n",
      "Python_Programming_Assingment6.ipynb\n",
      "Python_Programming_Assingment7.ipynb\n",
      "Python_Programming_Assingment8.ipynb\n",
      "Python_Programming_Assingment9.ipynb\n",
      "Untitled.ipynb\n",
      "__pycache__\n"
     ]
    }
   ],
   "source": [
    "for files in os.listdir(parent):\n",
    "    print(files)"
   ]
  },
  {
   "cell_type": "raw",
   "metadata": {},
   "source": [
    "6. Use multiprocessing to create three separate processes. Make each one wait a random number of seconds between one and five, print the current time, and then exit."
   ]
  },
  {
   "cell_type": "code",
   "execution_count": 47,
   "metadata": {},
   "outputs": [],
   "source": [
    "import multiprocessing\n",
    "import time\n",
    "import random\n",
    "import datetime\n",
    "\n",
    "def one():\n",
    "    print(f\"process one start - {datetime.datetime.now()}\")\n",
    "    time.sleep(random.randint(1,5))\n",
    "    print(f\"process one end - {datetime.datetime.now()}\")\n",
    "    \n",
    "def two():\n",
    "    print(f\"process two start - {datetime.datetime.now()}\")\n",
    "    time.sleep(random.randint(1,5))\n",
    "    print(f\"process two end - {datetime.datetime.now()}\")\n",
    "    \n",
    "def three():\n",
    "    print(f\"process three start - {datetime.datetime.now()}\")\n",
    "    time.sleep(random.randint(1,5))\n",
    "    print(f\"process three end - {datetime.datetime.now()}\")\n",
    "    \n",
    "if __name__ == \"__main__\":\n",
    "    p1 = multiprocessing.Process(target = one)\n",
    "    p2 = multiprocessing.Process(target = two)\n",
    "    p3 = multiprocessing.Process(target = three)\n",
    "    \n",
    "    p1.start()\n",
    "    p2.start()\n",
    "    p3.start()\n",
    "    \n"
   ]
  },
  {
   "cell_type": "raw",
   "metadata": {},
   "source": [
    "7. Create a date object of your day of birth."
   ]
  },
  {
   "cell_type": "code",
   "execution_count": 48,
   "metadata": {},
   "outputs": [
    {
     "name": "stdout",
     "output_type": "stream",
     "text": [
      "1990-03-25 00:00:00\n"
     ]
    }
   ],
   "source": [
    "from datetime import datetime\n",
    "\n",
    "dob = datetime.strptime('25/03/1990','%d/%m/%Y')\n",
    "\n",
    "print(dob)"
   ]
  },
  {
   "cell_type": "raw",
   "metadata": {},
   "source": [
    "8. What day of the week was your day of birth?"
   ]
  },
  {
   "cell_type": "code",
   "execution_count": 52,
   "metadata": {},
   "outputs": [
    {
     "name": "stdout",
     "output_type": "stream",
     "text": [
      "6\n"
     ]
    }
   ],
   "source": [
    "print(dob.weekday())"
   ]
  },
  {
   "cell_type": "code",
   "execution_count": 53,
   "metadata": {},
   "outputs": [
    {
     "data": {
      "text/plain": [
       "'Sunday'"
      ]
     },
     "execution_count": 53,
     "metadata": {},
     "output_type": "execute_result"
    }
   ],
   "source": [
    "dob.strftime(\"%A\")"
   ]
  },
  {
   "cell_type": "raw",
   "metadata": {},
   "source": [
    "9. When will you be (or when were you) 10,000 days old?"
   ]
  },
  {
   "cell_type": "code",
   "execution_count": 56,
   "metadata": {},
   "outputs": [
    {
     "data": {
      "text/plain": [
       "datetime.datetime(1992, 12, 19, 0, 0)"
      ]
     },
     "execution_count": 56,
     "metadata": {},
     "output_type": "execute_result"
    }
   ],
   "source": [
    "import datetime\n",
    "duration = datetime.timedelta(days=1000)\n",
    "dateafter = dob+duration\n",
    "dateafter"
   ]
  },
  {
   "cell_type": "code",
   "execution_count": null,
   "metadata": {},
   "outputs": [],
   "source": []
  }
 ],
 "metadata": {
  "kernelspec": {
   "display_name": "Python 3",
   "language": "python",
   "name": "python3"
  },
  "language_info": {
   "codemirror_mode": {
    "name": "ipython",
    "version": 3
   },
   "file_extension": ".py",
   "mimetype": "text/x-python",
   "name": "python",
   "nbconvert_exporter": "python",
   "pygments_lexer": "ipython3",
   "version": "3.6.10"
  }
 },
 "nbformat": 4,
 "nbformat_minor": 4
}
