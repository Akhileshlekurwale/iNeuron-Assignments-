{
 "cells": [
  {
   "cell_type": "markdown",
   "metadata": {},
   "source": [
    "Write a Python Program to Find LCM?\n"
   ]
  },
  {
   "cell_type": "code",
   "execution_count": 22,
   "metadata": {},
   "outputs": [
    {
     "name": "stdout",
     "output_type": "stream",
     "text": [
      "Enter positive number 3\n",
      "Enter positive number 4\n",
      "12\n"
     ]
    }
   ],
   "source": [
    "n1 = int(input(\"Enter positive number \"))\n",
    "n2 = int(input(\"Enter positive number \"))\n",
    "#greater_number\n",
    "if n1 < n2:\n",
    "    greater_number = n2\n",
    "else:\n",
    "    greater_number = n1\n",
    "    \n",
    "while(True):\n",
    "    if (greater_number%n1==0) and (greater_number%n2==0):\n",
    "        LCM = greater_number\n",
    "        break\n",
    "    greater_number = greater_number+1\n",
    "    \n",
    "print(LCM)"
   ]
  },
  {
   "cell_type": "code",
   "execution_count": 46,
   "metadata": {},
   "outputs": [
    {
     "name": "stdout",
     "output_type": "stream",
     "text": [
      "6\n"
     ]
    }
   ],
   "source": [
    "a= 54\n",
    "b=24\n",
    "num=0\n",
    "\n",
    "if a < b:\n",
    "    num=a\n",
    "else:\n",
    "    num=b\n",
    "\n",
    "for i in range(1,num+1):\n",
    "    if (a%i==0) and (b%i==0):\n",
    "        hcf = i\n",
    "\n",
    "print(hcf)"
   ]
  },
  {
   "cell_type": "markdown",
   "metadata": {},
   "source": [
    "Write a Python Program to Convert Decimal to Binary, Octal and Hexadecimal?\n"
   ]
  },
  {
   "cell_type": "code",
   "execution_count": 48,
   "metadata": {},
   "outputs": [
    {
     "name": "stdout",
     "output_type": "stream",
     "text": [
      "Enter number23\n",
      "Binary form is  0b10111\n",
      "Ocatal form is  0o27\n",
      "Hexadecimal form is  0x17\n"
     ]
    }
   ],
   "source": [
    "input3 = int(input(\"Enter number\"))\n",
    "binary = bin(input3)\n",
    "octal = oct(input3)\n",
    "hexa = hex(input3)\n",
    "\n",
    "print(\"Binary form is \",binary)\n",
    "print(\"Ocatal form is \",octal)\n",
    "print(\"Hexadecimal form is \",hexa)"
   ]
  },
  {
   "cell_type": "markdown",
   "metadata": {},
   "source": [
    "Write a Python Program To Find ASCII value of a character?\n"
   ]
  },
  {
   "cell_type": "code",
   "execution_count": null,
   "metadata": {},
   "outputs": [],
   "source": []
  },
  {
   "cell_type": "code",
   "execution_count": 51,
   "metadata": {},
   "outputs": [
    {
     "name": "stdout",
     "output_type": "stream",
     "text": [
      "Enter charecterw\n",
      "ASCII value is  119\n"
     ]
    }
   ],
   "source": [
    "input3 = (input(\"Enter charecter\"))\n",
    "\n",
    "print(\"ASCII value is \",ord(input3))"
   ]
  },
  {
   "cell_type": "markdown",
   "metadata": {},
   "source": [
    "Write a Python Program to Make a Simple Calculator with 4 basic mathematical operations?\n"
   ]
  },
  {
   "cell_type": "code",
   "execution_count": 11,
   "metadata": {},
   "outputs": [
    {
     "name": "stdout",
     "output_type": "stream",
     "text": [
      "Enter number a2\n",
      "Enter Number b2\n",
      " Enter anyone operation from below mention \n",
      " 1.Add \n",
      " 2.Multiply \n",
      " 3.Divide \n",
      " 4.SubstractionAdd\n",
      "output is  4.0\n"
     ]
    }
   ],
   "source": [
    "a5=int(input(\"Enter number a\"))\n",
    "b5=float(input(\"Enter Number b\"))\n",
    "option = input(\" Enter anyone operation from below mention \\n 1.Add \\n 2.Multiply \\n 3.Divide \\n 4.Substraction\")\n",
    "\n",
    "if option == 'Add':\n",
    "    c5=a5+b5\n",
    "    print(\"output is \", c5)\n",
    "\n",
    "elif option == 'Multiply':\n",
    "    c5= a5*b5\n",
    "    print(\"output is \",c5)\n",
    "\n",
    "elif option == 'Divide':\n",
    "    c5 = a5/b5\n",
    "    print(\"output is \",c5)\n",
    "    \n",
    "else :\n",
    "    option == \"Substraction\"\n",
    "    c5= a5-b5\n",
    "    print(\"output is \",c5)"
   ]
  },
  {
   "cell_type": "code",
   "execution_count": null,
   "metadata": {},
   "outputs": [],
   "source": []
  },
  {
   "cell_type": "code",
   "execution_count": null,
   "metadata": {},
   "outputs": [],
   "source": []
  }
 ],
 "metadata": {
  "kernelspec": {
   "display_name": "Python 3",
   "language": "python",
   "name": "python3"
  },
  "language_info": {
   "codemirror_mode": {
    "name": "ipython",
    "version": 3
   },
   "file_extension": ".py",
   "mimetype": "text/x-python",
   "name": "python",
   "nbconvert_exporter": "python",
   "pygments_lexer": "ipython3",
   "version": "3.6.10"
  }
 },
 "nbformat": 4,
 "nbformat_minor": 4
}
