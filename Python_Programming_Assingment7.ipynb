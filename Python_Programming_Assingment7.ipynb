{
 "cells": [
  {
   "cell_type": "markdown",
   "metadata": {},
   "source": [
    "Write a Python Program to find sum of array?\n"
   ]
  },
  {
   "cell_type": "code",
   "execution_count": 3,
   "metadata": {},
   "outputs": [
    {
     "name": "stdout",
     "output_type": "stream",
     "text": [
      "Enter length Array2\n",
      "1\n",
      "1\n",
      "Addition of list is  2\n"
     ]
    }
   ],
   "source": [
    "a = int(input(\"Enter length Array\"))\n",
    "\n",
    "lst1  =[]\n",
    "\n",
    "for i in range(a):\n",
    "    num=int(input())\n",
    "    \n",
    "    lst1.append(num)\n",
    "sumlst1 = 0\n",
    "for i in lst1:\n",
    "    sumlst1 +=i\n",
    "    \n",
    "print(\"Addition of list is \", sumlst1)"
   ]
  },
  {
   "cell_type": "markdown",
   "metadata": {},
   "source": [
    "Write a Python Program to find largest element in an array?\n",
    "\n",
    "lst2 = [34,54,12,3]\n",
    "\n",
    "print(max(lst2))"
   ]
  },
  {
   "cell_type": "code",
   "execution_count": 5,
   "metadata": {},
   "outputs": [
    {
     "name": "stdout",
     "output_type": "stream",
     "text": [
      "54\n"
     ]
    }
   ],
   "source": [
    "lst2 = [34,54,12,3]\n",
    "\n",
    "print(max(lst2))"
   ]
  },
  {
   "cell_type": "markdown",
   "metadata": {},
   "source": [
    "Write a Python Program for array rotation?\n"
   ]
  },
  {
   "cell_type": "code",
   "execution_count": 9,
   "metadata": {},
   "outputs": [
    {
     "name": "stdout",
     "output_type": "stream",
     "text": [
      "[]\n"
     ]
    }
   ],
   "source": [
    "lst3 = [1,2,3,4,5]\n",
    "lst31=[]\n",
    "def rotationarr(l1,place_rotate,lenofarr):\n",
    "    lst31 = lst3[place_rotate:lenofarr]+lst3[0:place_rotate]\n",
    "    return lst31\n",
    "\n",
    "print(lst31)\n",
    "\n"
   ]
  },
  {
   "cell_type": "code",
   "execution_count": 10,
   "metadata": {},
   "outputs": [
    {
     "data": {
      "text/plain": [
       "[3, 4, 5, 1, 2]"
      ]
     },
     "execution_count": 10,
     "metadata": {},
     "output_type": "execute_result"
    }
   ],
   "source": [
    "rotationarr(lst3,2,5)"
   ]
  },
  {
   "cell_type": "markdown",
   "metadata": {},
   "source": [
    "Write a Python Program to Split the array and add the first part to the end?\n"
   ]
  },
  {
   "cell_type": "code",
   "execution_count": null,
   "metadata": {},
   "outputs": [],
   "source": [
    "lst3 = [1,2,3,4,5]\n",
    "lst31=[]\n",
    "def rotationarr(l1,place_rotate,lenofarr):\n",
    "    lst31 = lst3[place_rotate:lenofarr]+lst3[0:place_rotate]\n",
    "    return lst31\n",
    "\n",
    "print(lst31)\n",
    "\n"
   ]
  },
  {
   "cell_type": "markdown",
   "metadata": {},
   "source": [
    "Write a Python Program to check if given array is Monotonic?"
   ]
  },
  {
   "cell_type": "code",
   "execution_count": 22,
   "metadata": {},
   "outputs": [
    {
     "name": "stdout",
     "output_type": "stream",
     "text": [
      "List is monotonic\n",
      "List is monotonic\n",
      "List is monotonic\n",
      "List is not monotonic\n",
      "List is not monotonic\n"
     ]
    }
   ],
   "source": [
    "lst4 = [3,4,5,6,3,2]\n",
    "\n",
    "for i in range(len(lst4)-1):\n",
    "    if (lst4[i]<lst4[i+1]):\n",
    "        print(\"List is monotonic\")\n",
    "    else:\n",
    "        print(\"List is not monotonic\")"
   ]
  },
  {
   "cell_type": "code",
   "execution_count": null,
   "metadata": {},
   "outputs": [],
   "source": []
  },
  {
   "cell_type": "code",
   "execution_count": null,
   "metadata": {},
   "outputs": [],
   "source": []
  }
 ],
 "metadata": {
  "kernelspec": {
   "display_name": "Python 3",
   "language": "python",
   "name": "python3"
  },
  "language_info": {
   "codemirror_mode": {
    "name": "ipython",
    "version": 3
   },
   "file_extension": ".py",
   "mimetype": "text/x-python",
   "name": "python",
   "nbconvert_exporter": "python",
   "pygments_lexer": "ipython3",
   "version": "3.6.10"
  }
 },
 "nbformat": 4,
 "nbformat_minor": 4
}
