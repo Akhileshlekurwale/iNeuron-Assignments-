{
 "cells": [
  {
   "cell_type": "markdown",
   "metadata": {},
   "source": [
    "Write a Python program to check if the given number is a Disarium Number?\n"
   ]
  },
  {
   "cell_type": "code",
   "execution_count": 42,
   "metadata": {},
   "outputs": [
    {
     "name": "stdout",
     "output_type": "stream",
     "text": [
      "i is  3\n",
      "nc is  5\n",
      "sum is  125\n",
      "n is  17\n",
      "i is  2\n",
      "nc is  7\n",
      "sum is  174\n",
      "n is  1\n",
      "i is  1\n",
      "nc is  1\n",
      "sum is  175\n",
      "n is  0\n",
      "Number is Disarium Number\n"
     ]
    }
   ],
   "source": [
    "d = 175\n",
    "n = d\n",
    "a=len(str(n))\n",
    "#print(a)\n",
    "sum1=0\n",
    "for i in range(a,0,-1):\n",
    "    print(\"i is \",i)\n",
    "    nc=n%10\n",
    "    print(\"nc is \",nc)\n",
    "    sum1 = sum1+(nc **i)\n",
    "    print(\"sum is \",sum1)\n",
    "    n=n//10\n",
    "    print(\"n is \",n)\n",
    "    \n",
    "if d==sum1:\n",
    "    print(\"Number is Disarium Number\")\n",
    "else:\n",
    "    print(\"Number is not Disarium Number\")\n",
    "    "
   ]
  },
  {
   "cell_type": "markdown",
   "metadata": {},
   "source": [
    "Write a Python program to print all disarium numbers between 1 to 100?"
   ]
  },
  {
   "cell_type": "code",
   "execution_count": 48,
   "metadata": {},
   "outputs": [
    {
     "name": "stdout",
     "output_type": "stream",
     "text": [
      "1\n",
      "2\n",
      "3\n",
      "4\n",
      "5\n",
      "6\n",
      "7\n",
      "8\n",
      "9\n",
      "89\n"
     ]
    }
   ],
   "source": [
    "def diglen(n):\n",
    "    length=0\n",
    "    while (n!=0):\n",
    "        length = length+1\n",
    "        n=n//10\n",
    "    return length\n",
    "\n",
    "def digadd(n1):\n",
    "    rem = summation =0\n",
    "    len1= diglen(n1)\n",
    "    while(n1>0):\n",
    "        rem = n1%10\n",
    "        summation = summation + (rem**len1)\n",
    "        n1=n1//10\n",
    "        len1=len1-1\n",
    "    return summation\n",
    "    \n",
    "count = 0\n",
    "\n",
    "for i in range(1,101):\n",
    "    count = digadd(i)\n",
    "    \n",
    "    if count == i:\n",
    "        print(i)"
   ]
  },
  {
   "cell_type": "markdown",
   "metadata": {},
   "source": [
    "Write a Python program to check if the given number is Happy Number?\n"
   ]
  },
  {
   "cell_type": "code",
   "execution_count": 51,
   "metadata": {},
   "outputs": [
    {
     "name": "stdout",
     "output_type": "stream",
     "text": [
      "82 is a happy number\n"
     ]
    }
   ],
   "source": [
    "def HappyNum(num):\n",
    "    rem = sum = 0;  \n",
    "    while(num > 0):\n",
    "        rem = num%10;\n",
    "        sum = sum + (rem*rem);\n",
    "        num = num//10;\n",
    "    return sum;\n",
    "num = 82;\n",
    "result = num;\n",
    "while(result != 1 and result != 4):\n",
    "    result = isHappyNumber(result);\n",
    "if(result == 1):\n",
    "    print(str(num) + \" is a happy number\");\n",
    "elif(result == 4):\n",
    "    print(str(num) + \"is not a happy number\");"
   ]
  },
  {
   "cell_type": "markdown",
   "metadata": {},
   "source": [
    "Write a Python program to print all happy numbers between 1 and 100?"
   ]
  },
  {
   "cell_type": "code",
   "execution_count": 53,
   "metadata": {},
   "outputs": [
    {
     "name": "stdout",
     "output_type": "stream",
     "text": [
      "1\n",
      "7\n",
      "10\n",
      "13\n",
      "19\n",
      "23\n",
      "28\n",
      "31\n",
      "32\n",
      "44\n",
      "49\n",
      "68\n",
      "70\n",
      "79\n",
      "82\n",
      "86\n",
      "91\n",
      "94\n",
      "97\n",
      "100\n"
     ]
    }
   ],
   "source": [
    "for i in range(1,101):\n",
    "    result1= i\n",
    "    while(result1 != 1 and result1 != 4):    \n",
    "        result1 = isHappyNumber(result1);    \n",
    "        \n",
    "    if(result1 == 1):    \n",
    "        print(i),    \n",
    "   "
   ]
  },
  {
   "cell_type": "markdown",
   "metadata": {},
   "source": [
    "Write a Python program to determine whether the given number is a Harshad Number?\n"
   ]
  },
  {
   "cell_type": "code",
   "execution_count": 56,
   "metadata": {},
   "outputs": [
    {
     "name": "stdout",
     "output_type": "stream",
     "text": [
      "not harshad number\n"
     ]
    }
   ],
   "source": [
    "n4=15\n",
    "cpy=n4\n",
    "r4=add4=0\n",
    "\n",
    "while(n4>0):\n",
    "    r4=n4%10\n",
    "    add4=add4+r4\n",
    "    n4=n4//10\n",
    "    \n",
    "if (cpy%add4==0):\n",
    "    print(\"Harshad Number\")\n",
    "else:\n",
    "    print(\"not harshad number\")"
   ]
  },
  {
   "cell_type": "markdown",
   "metadata": {},
   "source": [
    "Write a Python program to print all pronic numbers between 1 and 100?\n"
   ]
  },
  {
   "cell_type": "code",
   "execution_count": 10,
   "metadata": {},
   "outputs": [
    {
     "name": "stdout",
     "output_type": "stream",
     "text": [
      "1\n",
      "2\n",
      "1\n",
      "pronic number 2\n",
      "3\n",
      "1\n",
      "4\n",
      "1\n",
      "5\n",
      "1\n",
      "6\n",
      "1\n",
      "7\n",
      "1\n",
      "8\n",
      "1\n",
      "9\n",
      "1\n",
      "10\n",
      "1\n",
      "11\n",
      "1\n",
      "12\n",
      "1\n",
      "13\n",
      "1\n",
      "14\n",
      "1\n",
      "15\n",
      "1\n",
      "16\n",
      "1\n",
      "17\n",
      "1\n",
      "18\n",
      "1\n",
      "19\n",
      "1\n",
      "20\n",
      "1\n",
      "21\n",
      "1\n",
      "22\n",
      "1\n",
      "23\n",
      "1\n",
      "24\n",
      "1\n",
      "25\n",
      "1\n",
      "26\n",
      "1\n",
      "27\n",
      "1\n",
      "28\n",
      "1\n",
      "29\n",
      "1\n",
      "30\n",
      "1\n",
      "31\n",
      "1\n",
      "32\n",
      "1\n",
      "33\n",
      "1\n",
      "34\n",
      "1\n",
      "35\n",
      "1\n",
      "36\n",
      "1\n",
      "37\n",
      "1\n",
      "38\n",
      "1\n",
      "39\n",
      "1\n",
      "40\n",
      "1\n",
      "41\n",
      "1\n",
      "42\n",
      "1\n",
      "43\n",
      "1\n",
      "44\n",
      "1\n",
      "45\n",
      "1\n",
      "46\n",
      "1\n",
      "47\n",
      "1\n",
      "48\n",
      "1\n",
      "49\n",
      "1\n",
      "50\n",
      "1\n",
      "51\n",
      "1\n",
      "52\n",
      "1\n",
      "53\n",
      "1\n",
      "54\n",
      "1\n",
      "55\n",
      "1\n",
      "56\n",
      "1\n",
      "57\n",
      "1\n",
      "58\n",
      "1\n",
      "59\n",
      "1\n",
      "60\n",
      "1\n",
      "61\n",
      "1\n",
      "62\n",
      "1\n",
      "63\n",
      "1\n",
      "64\n",
      "1\n",
      "65\n",
      "1\n",
      "66\n",
      "1\n",
      "67\n",
      "1\n",
      "68\n",
      "1\n",
      "69\n",
      "1\n",
      "70\n",
      "1\n",
      "71\n",
      "1\n",
      "72\n",
      "1\n",
      "73\n",
      "1\n",
      "74\n",
      "1\n",
      "75\n",
      "1\n",
      "76\n",
      "1\n",
      "77\n",
      "1\n",
      "78\n",
      "1\n",
      "79\n",
      "1\n",
      "80\n",
      "1\n",
      "81\n",
      "1\n",
      "82\n",
      "1\n",
      "83\n",
      "1\n",
      "84\n",
      "1\n",
      "85\n",
      "1\n",
      "86\n",
      "1\n",
      "87\n",
      "1\n",
      "88\n",
      "1\n",
      "89\n",
      "1\n",
      "90\n",
      "1\n",
      "91\n",
      "1\n",
      "92\n",
      "1\n",
      "93\n",
      "1\n",
      "94\n",
      "1\n",
      "95\n",
      "1\n",
      "96\n",
      "1\n",
      "97\n",
      "1\n",
      "98\n",
      "1\n",
      "99\n",
      "1\n",
      "100\n",
      "1\n",
      "101\n"
     ]
    }
   ],
   "source": [
    "for i in range(1,101):\n",
    "    for j in (1,i+1):\n",
    "#        print(j)\n",
    "        if ((j*(j+1))==i):\n",
    "            print(\"pronic number\",i)"
   ]
  },
  {
   "cell_type": "code",
   "execution_count": null,
   "metadata": {},
   "outputs": [],
   "source": []
  }
 ],
 "metadata": {
  "kernelspec": {
   "display_name": "Python 3",
   "language": "python",
   "name": "python3"
  },
  "language_info": {
   "codemirror_mode": {
    "name": "ipython",
    "version": 3
   },
   "file_extension": ".py",
   "mimetype": "text/x-python",
   "name": "python",
   "nbconvert_exporter": "python",
   "pygments_lexer": "ipython3",
   "version": "3.6.10"
  }
 },
 "nbformat": 4,
 "nbformat_minor": 4
}
