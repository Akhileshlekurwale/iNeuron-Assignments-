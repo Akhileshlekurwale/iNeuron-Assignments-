{
 "cells": [
  {
   "cell_type": "markdown",
   "metadata": {},
   "source": [
    "1. Write a Python program to print \"Hello Python\"?"
   ]
  },
  {
   "cell_type": "code",
   "execution_count": 1,
   "metadata": {},
   "outputs": [
    {
     "name": "stdout",
     "output_type": "stream",
     "text": [
      "Hello Python\n"
     ]
    }
   ],
   "source": [
    "print(\"Hello Python\")"
   ]
  },
  {
   "cell_type": "markdown",
   "metadata": {},
   "source": [
    "2.Write a Python program to do arithmetical operations addition and division.?\n"
   ]
  },
  {
   "cell_type": "code",
   "execution_count": 3,
   "metadata": {},
   "outputs": [
    {
     "name": "stdout",
     "output_type": "stream",
     "text": [
      "Enter Integer Value of a \t23\n",
      "Enter Integer Value of b \t2\n",
      "25 is addition and 11.5 is division \n"
     ]
    }
   ],
   "source": [
    "a = int(input(\"Enter Integer Value of a \\t\"))\n",
    "b = int(input(\"Enter Integer Value of b \\t\"))\n",
    "\n",
    "c=a+b\n",
    "d=a/b\n",
    "print(\"{} is addition and {} is division \" .format(c,d))"
   ]
  },
  {
   "cell_type": "markdown",
   "metadata": {},
   "source": [
    "3.Write a Python program to find the area of a triangle?\n"
   ]
  },
  {
   "cell_type": "code",
   "execution_count": 7,
   "metadata": {},
   "outputs": [
    {
     "name": "stdout",
     "output_type": "stream",
     "text": [
      "enter length of side 1 \t10\n",
      "enter length of side 2 \t10\n",
      "enter length of side 3 \t10\n",
      "43.30127018922193\n"
     ]
    }
   ],
   "source": [
    "side1 = int(input(\"enter length of side 1 \\t\"))\n",
    "side2 = int(input(\"enter length of side 2 \\t\"))\n",
    "side3= int(input(\"enter length of side 3 \\t\"))\n",
    "\n",
    "P = (side1+side2+side3)/2\n",
    "\n",
    "area = (P*(P-side1)*(P-side2)*(P-side3))**0.5\n",
    "\n",
    "print(area)"
   ]
  },
  {
   "cell_type": "markdown",
   "metadata": {},
   "source": [
    "4.Write a Python program to swap two variables?\n"
   ]
  },
  {
   "cell_type": "code",
   "execution_count": 12,
   "metadata": {},
   "outputs": [
    {
     "name": "stdout",
     "output_type": "stream",
     "text": [
      "3 and 4 is value of a and b\n",
      " After swapping value of a and b are 4,3 \n"
     ]
    }
   ],
   "source": [
    "a = 3\n",
    "b = 4\n",
    "print(\"{} and {} is value of a and b\" .format(a,b))\n",
    "c1=a\n",
    "\n",
    "a=b\n",
    "b=c1\n",
    "\n",
    "print(\" After swapping value of a and b are {},{} \".format(a,b))\n"
   ]
  },
  {
   "cell_type": "markdown",
   "metadata": {},
   "source": [
    "5. Write a Python program to generate a random number?\n"
   ]
  },
  {
   "cell_type": "code",
   "execution_count": 27,
   "metadata": {},
   "outputs": [
    {
     "name": "stdout",
     "output_type": "stream",
     "text": [
      "10\n",
      "3\n",
      "10\n",
      "4\n",
      "6\n",
      "10\n",
      "8\n",
      "4\n",
      "3\n",
      "4\n"
     ]
    }
   ],
   "source": [
    "\n",
    "for i in range(10):\n",
    "    a = random.randint(0, 10)\n",
    "    print(a)"
   ]
  },
  {
   "cell_type": "code",
   "execution_count": null,
   "metadata": {},
   "outputs": [],
   "source": []
  }
 ],
 "metadata": {
  "kernelspec": {
   "display_name": "Python 3",
   "language": "python",
   "name": "python3"
  },
  "language_info": {
   "codemirror_mode": {
    "name": "ipython",
    "version": 3
   },
   "file_extension": ".py",
   "mimetype": "text/x-python",
   "name": "python",
   "nbconvert_exporter": "python",
   "pygments_lexer": "ipython3",
   "version": "3.7.3"
  }
 },
 "nbformat": 4,
 "nbformat_minor": 2
}
