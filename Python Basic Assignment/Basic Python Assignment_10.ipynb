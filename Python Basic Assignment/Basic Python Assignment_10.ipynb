{
 "cells": [
  {
   "cell_type": "markdown",
   "metadata": {},
   "source": [
    "1. How do you distinguish between shutil.copy() and shutil.copytree()?\n"
   ]
  },
  {
   "cell_type": "markdown",
   "metadata": {},
   "source": [
    "shutil.copy(): It copy only one file from source to destination \n",
    "shutil.copytree() : It copy all files in the desired folder from source to destination"
   ]
  },
  {
   "cell_type": "markdown",
   "metadata": {},
   "source": [
    "2. What function is used to rename files??\n"
   ]
  },
  {
   "cell_type": "markdown",
   "metadata": {},
   "source": [
    "os.rename(\"old name\",\"new name\")"
   ]
  },
  {
   "cell_type": "markdown",
   "metadata": {},
   "source": [
    " 3. What is the difference between the delete functions in the send2trash and shutil modules"
   ]
  },
  {
   "cell_type": "markdown",
   "metadata": {},
   "source": [
    "send2trash : This will delete the file and move it to trash or recylebin folder \n",
    "shutil modules will delete file permanately "
   ]
  },
  {
   "cell_type": "markdown",
   "metadata": {},
   "source": [
    "4.ZipFile objects have a close() method just like File objects’ close() method. What ZipFile method is equivalent to File objects’ open() method?\n"
   ]
  },
  {
   "cell_type": "code",
   "execution_count": null,
   "metadata": {},
   "outputs": [],
   "source": [
    "import zipfile \n",
    "\n",
    "with zipfile(\"File.zip\", \"r\") as zip:\n",
    "\n"
   ]
  },
  {
   "cell_type": "markdown",
   "metadata": {},
   "source": [
    "5. Create a programme that searches a folder tree for files with a certain file extension (such as .pdf or .jpg). Copy these files from whatever location they are in to a new folder."
   ]
  },
  {
   "cell_type": "code",
   "execution_count": 2,
   "metadata": {},
   "outputs": [
    {
     "data": {
      "text/plain": [
       "'E:\\\\DataScience\\\\iNeuron'"
      ]
     },
     "execution_count": 2,
     "metadata": {},
     "output_type": "execute_result"
    }
   ],
   "source": [
    "import os\n",
    "import shutil\n",
    "\n",
    "os.getcwd()"
   ]
  },
  {
   "cell_type": "code",
   "execution_count": 19,
   "metadata": {},
   "outputs": [],
   "source": [
    "def movefiles(folder):\n",
    "    for root, dirs, files in os.walk(folder):\n",
    "        for i in files:\n",
    "            if i.endswith('.txt'):\n",
    "                i_path = os.path.join(root,i)\n",
    "                print(i_path)\n",
    "                shutil.copy(i_path,\"E:\\DataScience\\iNeuron\")"
   ]
  },
  {
   "cell_type": "code",
   "execution_count": 20,
   "metadata": {},
   "outputs": [
    {
     "name": "stdout",
     "output_type": "stream",
     "text": [
      "E:\\DataScience\\iNeuron\\testtest.txt\n",
      "E:\\DataScience\\iNeuron\\Test\\new_text.txt\n",
      "E:\\DataScience\\iNeuron\\Test\\Test1.txt\n",
      "E:\\DataScience\\iNeuron\\Test\\Test10.txt\n",
      "E:\\DataScience\\iNeuron\\Test\\Test2.txt\n",
      "E:\\DataScience\\iNeuron\\Test\\Test3.txt\n",
      "E:\\DataScience\\iNeuron\\Test\\Test4.txt\n",
      "E:\\DataScience\\iNeuron\\Test\\Test5.txt\n",
      "E:\\DataScience\\iNeuron\\Test\\Test6.txt\n",
      "E:\\DataScience\\iNeuron\\Test\\Test7.txt\n",
      "E:\\DataScience\\iNeuron\\Test\\Test8.txt\n",
      "E:\\DataScience\\iNeuron\\Test\\Test9.txt\n"
     ]
    }
   ],
   "source": [
    "movefiles(\"E:\\DataScience\\iNeuron\")"
   ]
  },
  {
   "cell_type": "code",
   "execution_count": null,
   "metadata": {},
   "outputs": [],
   "source": []
  }
 ],
 "metadata": {
  "kernelspec": {
   "display_name": "Python 3",
   "language": "python",
   "name": "python3"
  },
  "language_info": {
   "codemirror_mode": {
    "name": "ipython",
    "version": 3
   },
   "file_extension": ".py",
   "mimetype": "text/x-python",
   "name": "python",
   "nbconvert_exporter": "python",
   "pygments_lexer": "ipython3",
   "version": "3.6.10"
  }
 },
 "nbformat": 4,
 "nbformat_minor": 4
}
