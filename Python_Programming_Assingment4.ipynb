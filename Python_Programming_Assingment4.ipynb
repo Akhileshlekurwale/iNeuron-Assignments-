{
 "cells": [
  {
   "cell_type": "markdown",
   "metadata": {},
   "source": [
    "Write a Python Program to Find the Factorial of a Number?\n"
   ]
  },
  {
   "cell_type": "code",
   "execution_count": 4,
   "metadata": {},
   "outputs": [
    {
     "name": "stdout",
     "output_type": "stream",
     "text": [
      "Enter positive number 1\n",
      "1\n"
     ]
    }
   ],
   "source": [
    "a=int(input(\"Enter positive number \"))\n",
    "b=1\n",
    "fact =1\n",
    "for i in range(b,a+1):\n",
    "    fact=fact*i\n",
    "print(fact)\n",
    "    \n",
    "    "
   ]
  },
  {
   "cell_type": "markdown",
   "metadata": {},
   "source": [
    "Write a Python Program to Display the multiplication Table?"
   ]
  },
  {
   "cell_type": "code",
   "execution_count": 6,
   "metadata": {},
   "outputs": [
    {
     "name": "stdout",
     "output_type": "stream",
     "text": [
      "Enter number to display multiplication table10\n",
      "10 * 1 = 10\n",
      "10 * 2 = 20\n",
      "10 * 3 = 30\n",
      "10 * 4 = 40\n",
      "10 * 5 = 50\n",
      "10 * 6 = 60\n",
      "10 * 7 = 70\n",
      "10 * 8 = 80\n",
      "10 * 9 = 90\n",
      "10 * 10 = 100\n"
     ]
    }
   ],
   "source": [
    "table = int(input(\"Enter number to display multiplication table\"))\n",
    "\n",
    "for i in range(1,11):\n",
    "    print(table,\"*\",i,\"=\",table*i)"
   ]
  },
  {
   "cell_type": "markdown",
   "metadata": {},
   "source": [
    "Write a Python Program to Print the Fibonacci sequence?\n"
   ]
  },
  {
   "cell_type": "code",
   "execution_count": 14,
   "metadata": {},
   "outputs": [
    {
     "name": "stdout",
     "output_type": "stream",
     "text": [
      "Enter any positive number7\n",
      "1\n",
      "1\n",
      "2\n",
      "3\n",
      "5\n",
      "8\n",
      "13\n"
     ]
    }
   ],
   "source": [
    "fs = int(input(\"Enter any positive number\"))\n",
    "a=0\n",
    "b=1\n",
    "for i in range(0,fs):\n",
    "    c=a+b\n",
    "    a=b\n",
    "    b=c\n",
    "    print(a)\n",
    "    "
   ]
  },
  {
   "cell_type": "markdown",
   "metadata": {},
   "source": [
    "Write a Python Program to Check Armstrong Number?\n"
   ]
  },
  {
   "cell_type": "code",
   "execution_count": null,
   "metadata": {},
   "outputs": [],
   "source": [
    "input1 = input(\"Enter positive number\")\n",
    "power = len(input1)\n",
    "Arm = int(input1)\n",
    "print(power ,\"is power\")\n",
    "print(Arm,\"is number to check\")\n",
    "sum1 = 0\n",
    "\n",
    "a = Arm\n",
    "\n",
    "while a > 0:\n",
    "    b=a%10\n",
    "    sum1 = sum1 +(b**power)\n",
    "    a=a//10\n",
    "    \n",
    "if Arm==sum1:\n",
    "    print(Arm, \"is Armstrong number\")\n",
    "else:\n",
    "    \n",
    "    print(\"not armstrong number\")\n",
    "\n"
   ]
  },
  {
   "cell_type": "markdown",
   "metadata": {},
   "source": [
    "Write a Python Program to Find Armstrong Number in an Interval?\n"
   ]
  },
  {
   "cell_type": "code",
   "execution_count": 1,
   "metadata": {},
   "outputs": [
    {
     "name": "stdout",
     "output_type": "stream",
     "text": [
      "Enter lower_interval20\n",
      "Enter lower_interval2000\n",
      "153 is Armstrong number\n",
      "370 is Armstrong number\n",
      "371 is Armstrong number\n",
      "407 is Armstrong number\n",
      "1634 is Armstrong number\n"
     ]
    }
   ],
   "source": [
    "lower_interval = int(input(\"Enter lower_interval\"))\n",
    "upper_interval = int(input(\"Enter lower_interval\"))\n",
    "\n",
    "for i in range(lower_interval,upper_interval+1):\n",
    "    power = len(str(i))\n",
    "#Arm = int(input1)\n",
    "#    print(power ,\"is power\")\n",
    "#    print(i,\"is number to check\")\n",
    "    sum1 = 0\n",
    "\n",
    "    Arm = i\n",
    "\n",
    "    while Arm > 0:\n",
    "        b=Arm%10\n",
    "        sum1 = sum1 +(b**power)\n",
    "        Arm=Arm//10\n",
    "    \n",
    "    if i==sum1:\n",
    "        print(i, \"is Armstrong number\")\n",
    "#else:\n",
    "    \n",
    "#    print(\"not armstrong number\")\n",
    "\n"
   ]
  },
  {
   "cell_type": "markdown",
   "metadata": {},
   "source": [
    "Write a Python Program to Find the Sum of Natural Numbers?\n"
   ]
  },
  {
   "cell_type": "code",
   "execution_count": 6,
   "metadata": {},
   "outputs": [
    {
     "name": "stdout",
     "output_type": "stream",
     "text": [
      "Enter number16\n",
      "136\n"
     ]
    }
   ],
   "source": [
    "int1 = int(input(\"Enter number\"))\n",
    "\n",
    "sum = 0\n",
    "for i in range(0,int1+1):\n",
    "    sum = sum+i\n",
    "print(sum)\n",
    "    "
   ]
  },
  {
   "cell_type": "code",
   "execution_count": null,
   "metadata": {},
   "outputs": [],
   "source": []
  }
 ],
 "metadata": {
  "kernelspec": {
   "display_name": "Python 3",
   "language": "python",
   "name": "python3"
  },
  "language_info": {
   "codemirror_mode": {
    "name": "ipython",
    "version": 3
   },
   "file_extension": ".py",
   "mimetype": "text/x-python",
   "name": "python",
   "nbconvert_exporter": "python",
   "pygments_lexer": "ipython3",
   "version": "3.6.10"
  }
 },
 "nbformat": 4,
 "nbformat_minor": 4
}
